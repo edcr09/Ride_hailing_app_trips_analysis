{
  "cells": [
    {
      "cell_type": "markdown",
      "metadata": {
        "id": "5a2TJVkGiu7N"
      },
      "source": [
        "# Proyecto de analisis de viajes de usuarios en app de servicio de viajes\n",
        "\n",
        "\n",
        "Estás trabajando como analista para Zuber, una nueva empresa de viajes compartidos que se está lanzando en Chicago. Tu tarea es encontrar patrones en la información disponible. Quieres comprender las preferencias de los pasajeros y el impacto de los factores externos en los viajes.\n",
        "\n",
        "Al trabajar con una base de datos, analizarás los datos de los competidores y probarás una hipótesis sobre el impacto del clima en la frecuencia de los viajes.\n",
        "\n",
        "Se recuperaron datos del clima de Chicago desde un sitio web. Ahora después de realizar las consultas con SQL, se trabajará con los resultados obtenidos.\n"
      ]
    },
    {
      "cell_type": "markdown",
      "metadata": {
        "id": "v8SJgSNQiu7P"
      },
      "source": [
        "## Análisis exploratorio de datos"
      ]
    },
    {
      "cell_type": "markdown",
      "metadata": {
        "id": "TUC90JFtiu7P"
      },
      "source": [
        "### Importar librerias"
      ]
    },
    {
      "cell_type": "code",
      "execution_count": null,
      "metadata": {
        "id": "_b64RORwiu7Q"
      },
      "outputs": [],
      "source": [
        "import pandas as pd\n",
        "import numpy as np\n",
        "\n",
        "from matplotlib import pyplot as plt\n",
        "from scipy      import stats  as st"
      ]
    },
    {
      "cell_type": "markdown",
      "metadata": {
        "id": "xXHFTPcdiu7S"
      },
      "source": [
        "### Importar archivos y leerlos\n",
        "Los resultados del preprocesamiento y preparación de los datos van en el orden en que se importan los archivos."
      ]
    },
    {
      "cell_type": "code",
      "execution_count": null,
      "metadata": {
        "id": "32ta3la2iu7T"
      },
      "outputs": [],
      "source": [
        "\n",
        "# Número de viajes de cada compañía de taxis el 15 y 16 de noviembre de 2017\n",
        "trips = pd.read_csv('https://practicum-content.s3.us-west-1.amazonaws.com/learning-materials/data-analyst-eng/moved_project_sql_result_01.csv')\n",
        "\n",
        "# Promedio de viajes que terminaron en cada barrio de Chicago en noviembre de 2017\n",
        "trips_avg = pd.read_csv('https://practicum-content.s3.us-west-1.amazonaws.com/learning-materials/data-analyst-eng/moved_project_sql_result_04.csv')\n",
        "\n",
        "# Datos sobre viajes desde el Loop hasta el Aeropuerto Internacional O'Hare\n",
        "trips_airport = pd.read_csv('https://practicum-content.s3.us-west-1.amazonaws.com/learning-materials/data-analyst-eng/moved_project_sql_result_07.csv')"
      ]
    },
    {
      "cell_type": "markdown",
      "metadata": {
        "id": "SsjXuPWMiu7T"
      },
      "source": [
        "### Preprocesamiento: Visualizacion preliminar"
      ]
    },
    {
      "cell_type": "code",
      "execution_count": null,
      "metadata": {
        "id": "SmGuQBQ0iu7U",
        "outputId": "7956561b-f6d1-49f8-b683-d4521dcbdf2e"
      },
      "outputs": [
        {
          "data": {
            "text/html": [
              "<div>\n",
              "<style scoped>\n",
              "    .dataframe tbody tr th:only-of-type {\n",
              "        vertical-align: middle;\n",
              "    }\n",
              "\n",
              "    .dataframe tbody tr th {\n",
              "        vertical-align: top;\n",
              "    }\n",
              "\n",
              "    .dataframe thead th {\n",
              "        text-align: right;\n",
              "    }\n",
              "</style>\n",
              "<table border=\"1\" class=\"dataframe\">\n",
              "  <thead>\n",
              "    <tr style=\"text-align: right;\">\n",
              "      <th></th>\n",
              "      <th>company_name</th>\n",
              "      <th>trips_amount</th>\n",
              "    </tr>\n",
              "  </thead>\n",
              "  <tbody>\n",
              "    <tr>\n",
              "      <th>0</th>\n",
              "      <td>Flash Cab</td>\n",
              "      <td>19558</td>\n",
              "    </tr>\n",
              "    <tr>\n",
              "      <th>1</th>\n",
              "      <td>Taxi Affiliation Services</td>\n",
              "      <td>11422</td>\n",
              "    </tr>\n",
              "    <tr>\n",
              "      <th>2</th>\n",
              "      <td>Medallion Leasin</td>\n",
              "      <td>10367</td>\n",
              "    </tr>\n",
              "    <tr>\n",
              "      <th>3</th>\n",
              "      <td>Yellow Cab</td>\n",
              "      <td>9888</td>\n",
              "    </tr>\n",
              "    <tr>\n",
              "      <th>4</th>\n",
              "      <td>Taxi Affiliation Service Yellow</td>\n",
              "      <td>9299</td>\n",
              "    </tr>\n",
              "    <tr>\n",
              "      <th>5</th>\n",
              "      <td>Chicago Carriage Cab Corp</td>\n",
              "      <td>9181</td>\n",
              "    </tr>\n",
              "    <tr>\n",
              "      <th>6</th>\n",
              "      <td>City Service</td>\n",
              "      <td>8448</td>\n",
              "    </tr>\n",
              "    <tr>\n",
              "      <th>7</th>\n",
              "      <td>Sun Taxi</td>\n",
              "      <td>7701</td>\n",
              "    </tr>\n",
              "    <tr>\n",
              "      <th>8</th>\n",
              "      <td>Star North Management LLC</td>\n",
              "      <td>7455</td>\n",
              "    </tr>\n",
              "    <tr>\n",
              "      <th>9</th>\n",
              "      <td>Blue Ribbon Taxi Association Inc.</td>\n",
              "      <td>5953</td>\n",
              "    </tr>\n",
              "    <tr>\n",
              "      <th>10</th>\n",
              "      <td>Choice Taxi Association</td>\n",
              "      <td>5015</td>\n",
              "    </tr>\n",
              "    <tr>\n",
              "      <th>11</th>\n",
              "      <td>Globe Taxi</td>\n",
              "      <td>4383</td>\n",
              "    </tr>\n",
              "    <tr>\n",
              "      <th>12</th>\n",
              "      <td>Dispatch Taxi Affiliation</td>\n",
              "      <td>3355</td>\n",
              "    </tr>\n",
              "    <tr>\n",
              "      <th>13</th>\n",
              "      <td>Nova Taxi Affiliation Llc</td>\n",
              "      <td>3175</td>\n",
              "    </tr>\n",
              "    <tr>\n",
              "      <th>14</th>\n",
              "      <td>Patriot Taxi Dba Peace Taxi Associat</td>\n",
              "      <td>2235</td>\n",
              "    </tr>\n",
              "    <tr>\n",
              "      <th>15</th>\n",
              "      <td>Checker Taxi Affiliation</td>\n",
              "      <td>2216</td>\n",
              "    </tr>\n",
              "    <tr>\n",
              "      <th>16</th>\n",
              "      <td>Blue Diamond</td>\n",
              "      <td>2070</td>\n",
              "    </tr>\n",
              "    <tr>\n",
              "      <th>17</th>\n",
              "      <td>Chicago Medallion Management</td>\n",
              "      <td>1955</td>\n",
              "    </tr>\n",
              "    <tr>\n",
              "      <th>18</th>\n",
              "      <td>24 Seven Taxi</td>\n",
              "      <td>1775</td>\n",
              "    </tr>\n",
              "    <tr>\n",
              "      <th>19</th>\n",
              "      <td>Chicago Medallion Leasing INC</td>\n",
              "      <td>1607</td>\n",
              "    </tr>\n",
              "    <tr>\n",
              "      <th>20</th>\n",
              "      <td>Checker Taxi</td>\n",
              "      <td>1486</td>\n",
              "    </tr>\n",
              "    <tr>\n",
              "      <th>21</th>\n",
              "      <td>American United</td>\n",
              "      <td>1404</td>\n",
              "    </tr>\n",
              "    <tr>\n",
              "      <th>22</th>\n",
              "      <td>Chicago Independents</td>\n",
              "      <td>1296</td>\n",
              "    </tr>\n",
              "    <tr>\n",
              "      <th>23</th>\n",
              "      <td>KOAM Taxi Association</td>\n",
              "      <td>1259</td>\n",
              "    </tr>\n",
              "    <tr>\n",
              "      <th>24</th>\n",
              "      <td>Chicago Taxicab</td>\n",
              "      <td>1014</td>\n",
              "    </tr>\n",
              "    <tr>\n",
              "      <th>25</th>\n",
              "      <td>Top Cab Affiliation</td>\n",
              "      <td>978</td>\n",
              "    </tr>\n",
              "    <tr>\n",
              "      <th>26</th>\n",
              "      <td>Gold Coast Taxi</td>\n",
              "      <td>428</td>\n",
              "    </tr>\n",
              "    <tr>\n",
              "      <th>27</th>\n",
              "      <td>Service Taxi Association</td>\n",
              "      <td>402</td>\n",
              "    </tr>\n",
              "    <tr>\n",
              "      <th>28</th>\n",
              "      <td>5 Star Taxi</td>\n",
              "      <td>310</td>\n",
              "    </tr>\n",
              "    <tr>\n",
              "      <th>29</th>\n",
              "      <td>303 Taxi</td>\n",
              "      <td>250</td>\n",
              "    </tr>\n",
              "  </tbody>\n",
              "</table>\n",
              "</div>"
            ],
            "text/plain": [
              "                            company_name  trips_amount\n",
              "0                              Flash Cab         19558\n",
              "1              Taxi Affiliation Services         11422\n",
              "2                       Medallion Leasin         10367\n",
              "3                             Yellow Cab          9888\n",
              "4        Taxi Affiliation Service Yellow          9299\n",
              "5              Chicago Carriage Cab Corp          9181\n",
              "6                           City Service          8448\n",
              "7                               Sun Taxi          7701\n",
              "8              Star North Management LLC          7455\n",
              "9      Blue Ribbon Taxi Association Inc.          5953\n",
              "10               Choice Taxi Association          5015\n",
              "11                            Globe Taxi          4383\n",
              "12             Dispatch Taxi Affiliation          3355\n",
              "13             Nova Taxi Affiliation Llc          3175\n",
              "14  Patriot Taxi Dba Peace Taxi Associat          2235\n",
              "15              Checker Taxi Affiliation          2216\n",
              "16                          Blue Diamond          2070\n",
              "17          Chicago Medallion Management          1955\n",
              "18                         24 Seven Taxi          1775\n",
              "19         Chicago Medallion Leasing INC          1607\n",
              "20                          Checker Taxi          1486\n",
              "21                       American United          1404\n",
              "22                  Chicago Independents          1296\n",
              "23                 KOAM Taxi Association          1259\n",
              "24                       Chicago Taxicab          1014\n",
              "25                   Top Cab Affiliation           978\n",
              "26                       Gold Coast Taxi           428\n",
              "27              Service Taxi Association           402\n",
              "28                           5 Star Taxi           310\n",
              "29                              303 Taxi           250"
            ]
          },
          "metadata": {},
          "output_type": "display_data"
        },
        {
          "name": "stdout",
          "output_type": "stream",
          "text": [
            "\n",
            "\n",
            "<class 'pandas.core.frame.DataFrame'>\n",
            "RangeIndex: 64 entries, 0 to 63\n",
            "Data columns (total 2 columns):\n",
            " #   Column        Non-Null Count  Dtype \n",
            "---  ------        --------------  ----- \n",
            " 0   company_name  64 non-null     object\n",
            " 1   trips_amount  64 non-null     int64 \n",
            "dtypes: int64(1), object(1)\n",
            "memory usage: 1.1+ KB\n"
          ]
        },
        {
          "data": {
            "text/plain": [
              "None"
            ]
          },
          "metadata": {},
          "output_type": "display_data"
        },
        {
          "name": "stdout",
          "output_type": "stream",
          "text": [
            "\n",
            "\n"
          ]
        },
        {
          "data": {
            "text/html": [
              "<div>\n",
              "<style scoped>\n",
              "    .dataframe tbody tr th:only-of-type {\n",
              "        vertical-align: middle;\n",
              "    }\n",
              "\n",
              "    .dataframe tbody tr th {\n",
              "        vertical-align: top;\n",
              "    }\n",
              "\n",
              "    .dataframe thead th {\n",
              "        text-align: right;\n",
              "    }\n",
              "</style>\n",
              "<table border=\"1\" class=\"dataframe\">\n",
              "  <thead>\n",
              "    <tr style=\"text-align: right;\">\n",
              "      <th></th>\n",
              "      <th>trips_amount</th>\n",
              "    </tr>\n",
              "  </thead>\n",
              "  <tbody>\n",
              "    <tr>\n",
              "      <th>count</th>\n",
              "      <td>64.000000</td>\n",
              "    </tr>\n",
              "    <tr>\n",
              "      <th>mean</th>\n",
              "      <td>2145.484375</td>\n",
              "    </tr>\n",
              "    <tr>\n",
              "      <th>std</th>\n",
              "      <td>3812.310186</td>\n",
              "    </tr>\n",
              "    <tr>\n",
              "      <th>min</th>\n",
              "      <td>2.000000</td>\n",
              "    </tr>\n",
              "    <tr>\n",
              "      <th>25%</th>\n",
              "      <td>20.750000</td>\n",
              "    </tr>\n",
              "    <tr>\n",
              "      <th>50%</th>\n",
              "      <td>178.500000</td>\n",
              "    </tr>\n",
              "    <tr>\n",
              "      <th>75%</th>\n",
              "      <td>2106.500000</td>\n",
              "    </tr>\n",
              "    <tr>\n",
              "      <th>max</th>\n",
              "      <td>19558.000000</td>\n",
              "    </tr>\n",
              "  </tbody>\n",
              "</table>\n",
              "</div>"
            ],
            "text/plain": [
              "       trips_amount\n",
              "count     64.000000\n",
              "mean    2145.484375\n",
              "std     3812.310186\n",
              "min        2.000000\n",
              "25%       20.750000\n",
              "50%      178.500000\n",
              "75%     2106.500000\n",
              "max    19558.000000"
            ]
          },
          "metadata": {},
          "output_type": "display_data"
        },
        {
          "name": "stdout",
          "output_type": "stream",
          "text": [
            "\n",
            "\n"
          ]
        }
      ],
      "source": [
        "display(trips.head(30))\n",
        "print('\\n')\n",
        "display(trips.info(show_counts = True))\n",
        "print('\\n')\n",
        "display(trips.describe())\n",
        "print('\\n')"
      ]
    },
    {
      "cell_type": "code",
      "execution_count": null,
      "metadata": {
        "id": "lnXQC4X2iu7V",
        "outputId": "356c0e1a-a567-48d8-e9b3-448176c97c82"
      },
      "outputs": [
        {
          "data": {
            "text/html": [
              "<div>\n",
              "<style scoped>\n",
              "    .dataframe tbody tr th:only-of-type {\n",
              "        vertical-align: middle;\n",
              "    }\n",
              "\n",
              "    .dataframe tbody tr th {\n",
              "        vertical-align: top;\n",
              "    }\n",
              "\n",
              "    .dataframe thead th {\n",
              "        text-align: right;\n",
              "    }\n",
              "</style>\n",
              "<table border=\"1\" class=\"dataframe\">\n",
              "  <thead>\n",
              "    <tr style=\"text-align: right;\">\n",
              "      <th></th>\n",
              "      <th>dropoff_location_name</th>\n",
              "      <th>average_trips</th>\n",
              "    </tr>\n",
              "  </thead>\n",
              "  <tbody>\n",
              "    <tr>\n",
              "      <th>0</th>\n",
              "      <td>Loop</td>\n",
              "      <td>10727.466667</td>\n",
              "    </tr>\n",
              "    <tr>\n",
              "      <th>1</th>\n",
              "      <td>River North</td>\n",
              "      <td>9523.666667</td>\n",
              "    </tr>\n",
              "    <tr>\n",
              "      <th>2</th>\n",
              "      <td>Streeterville</td>\n",
              "      <td>6664.666667</td>\n",
              "    </tr>\n",
              "    <tr>\n",
              "      <th>3</th>\n",
              "      <td>West Loop</td>\n",
              "      <td>5163.666667</td>\n",
              "    </tr>\n",
              "    <tr>\n",
              "      <th>4</th>\n",
              "      <td>O'Hare</td>\n",
              "      <td>2546.900000</td>\n",
              "    </tr>\n",
              "    <tr>\n",
              "      <th>5</th>\n",
              "      <td>Lake View</td>\n",
              "      <td>2420.966667</td>\n",
              "    </tr>\n",
              "    <tr>\n",
              "      <th>6</th>\n",
              "      <td>Grant Park</td>\n",
              "      <td>2068.533333</td>\n",
              "    </tr>\n",
              "    <tr>\n",
              "      <th>7</th>\n",
              "      <td>Museum Campus</td>\n",
              "      <td>1510.000000</td>\n",
              "    </tr>\n",
              "    <tr>\n",
              "      <th>8</th>\n",
              "      <td>Gold Coast</td>\n",
              "      <td>1364.233333</td>\n",
              "    </tr>\n",
              "    <tr>\n",
              "      <th>9</th>\n",
              "      <td>Sheffield &amp; DePaul</td>\n",
              "      <td>1259.766667</td>\n",
              "    </tr>\n",
              "    <tr>\n",
              "      <th>10</th>\n",
              "      <td>Lincoln Park</td>\n",
              "      <td>1246.533333</td>\n",
              "    </tr>\n",
              "    <tr>\n",
              "      <th>11</th>\n",
              "      <td>East Village</td>\n",
              "      <td>1212.066667</td>\n",
              "    </tr>\n",
              "    <tr>\n",
              "      <th>12</th>\n",
              "      <td>Little Italy, UIC</td>\n",
              "      <td>863.700000</td>\n",
              "    </tr>\n",
              "    <tr>\n",
              "      <th>13</th>\n",
              "      <td>Uptown</td>\n",
              "      <td>849.666667</td>\n",
              "    </tr>\n",
              "    <tr>\n",
              "      <th>14</th>\n",
              "      <td>Near South Side</td>\n",
              "      <td>839.833333</td>\n",
              "    </tr>\n",
              "    <tr>\n",
              "      <th>15</th>\n",
              "      <td>Garfield Ridge</td>\n",
              "      <td>745.400000</td>\n",
              "    </tr>\n",
              "    <tr>\n",
              "      <th>16</th>\n",
              "      <td>Logan Square</td>\n",
              "      <td>620.333333</td>\n",
              "    </tr>\n",
              "    <tr>\n",
              "      <th>17</th>\n",
              "      <td>Edgewater</td>\n",
              "      <td>583.300000</td>\n",
              "    </tr>\n",
              "    <tr>\n",
              "      <th>18</th>\n",
              "      <td>West Town</td>\n",
              "      <td>516.400000</td>\n",
              "    </tr>\n",
              "    <tr>\n",
              "      <th>19</th>\n",
              "      <td>Old Town</td>\n",
              "      <td>469.566667</td>\n",
              "    </tr>\n",
              "    <tr>\n",
              "      <th>20</th>\n",
              "      <td>Rush &amp; Division</td>\n",
              "      <td>395.533333</td>\n",
              "    </tr>\n",
              "    <tr>\n",
              "      <th>21</th>\n",
              "      <td>North Center</td>\n",
              "      <td>393.266667</td>\n",
              "    </tr>\n",
              "    <tr>\n",
              "      <th>22</th>\n",
              "      <td>Lincoln Square</td>\n",
              "      <td>356.733333</td>\n",
              "    </tr>\n",
              "    <tr>\n",
              "      <th>23</th>\n",
              "      <td>Rogers Park</td>\n",
              "      <td>299.033333</td>\n",
              "    </tr>\n",
              "    <tr>\n",
              "      <th>24</th>\n",
              "      <td>West Ridge</td>\n",
              "      <td>298.333333</td>\n",
              "    </tr>\n",
              "    <tr>\n",
              "      <th>25</th>\n",
              "      <td>Irving Park</td>\n",
              "      <td>296.566667</td>\n",
              "    </tr>\n",
              "    <tr>\n",
              "      <th>26</th>\n",
              "      <td>Hyde Park</td>\n",
              "      <td>255.133333</td>\n",
              "    </tr>\n",
              "    <tr>\n",
              "      <th>27</th>\n",
              "      <td>Avondale</td>\n",
              "      <td>208.233333</td>\n",
              "    </tr>\n",
              "    <tr>\n",
              "      <th>28</th>\n",
              "      <td>Wicker Park</td>\n",
              "      <td>182.600000</td>\n",
              "    </tr>\n",
              "    <tr>\n",
              "      <th>29</th>\n",
              "      <td>Albany Park</td>\n",
              "      <td>180.900000</td>\n",
              "    </tr>\n",
              "  </tbody>\n",
              "</table>\n",
              "</div>"
            ],
            "text/plain": [
              "   dropoff_location_name  average_trips\n",
              "0                   Loop   10727.466667\n",
              "1            River North    9523.666667\n",
              "2          Streeterville    6664.666667\n",
              "3              West Loop    5163.666667\n",
              "4                 O'Hare    2546.900000\n",
              "5              Lake View    2420.966667\n",
              "6             Grant Park    2068.533333\n",
              "7          Museum Campus    1510.000000\n",
              "8             Gold Coast    1364.233333\n",
              "9     Sheffield & DePaul    1259.766667\n",
              "10          Lincoln Park    1246.533333\n",
              "11          East Village    1212.066667\n",
              "12     Little Italy, UIC     863.700000\n",
              "13                Uptown     849.666667\n",
              "14       Near South Side     839.833333\n",
              "15        Garfield Ridge     745.400000\n",
              "16          Logan Square     620.333333\n",
              "17             Edgewater     583.300000\n",
              "18             West Town     516.400000\n",
              "19              Old Town     469.566667\n",
              "20       Rush & Division     395.533333\n",
              "21          North Center     393.266667\n",
              "22        Lincoln Square     356.733333\n",
              "23           Rogers Park     299.033333\n",
              "24            West Ridge     298.333333\n",
              "25           Irving Park     296.566667\n",
              "26             Hyde Park     255.133333\n",
              "27              Avondale     208.233333\n",
              "28           Wicker Park     182.600000\n",
              "29           Albany Park     180.900000"
            ]
          },
          "metadata": {},
          "output_type": "display_data"
        },
        {
          "name": "stdout",
          "output_type": "stream",
          "text": [
            "\n",
            "\n",
            "<class 'pandas.core.frame.DataFrame'>\n",
            "RangeIndex: 94 entries, 0 to 93\n",
            "Data columns (total 2 columns):\n",
            " #   Column                 Non-Null Count  Dtype  \n",
            "---  ------                 --------------  -----  \n",
            " 0   dropoff_location_name  94 non-null     object \n",
            " 1   average_trips          94 non-null     float64\n",
            "dtypes: float64(1), object(1)\n",
            "memory usage: 1.6+ KB\n"
          ]
        },
        {
          "data": {
            "text/plain": [
              "None"
            ]
          },
          "metadata": {},
          "output_type": "display_data"
        },
        {
          "name": "stdout",
          "output_type": "stream",
          "text": [
            "\n",
            "\n"
          ]
        },
        {
          "data": {
            "text/html": [
              "<div>\n",
              "<style scoped>\n",
              "    .dataframe tbody tr th:only-of-type {\n",
              "        vertical-align: middle;\n",
              "    }\n",
              "\n",
              "    .dataframe tbody tr th {\n",
              "        vertical-align: top;\n",
              "    }\n",
              "\n",
              "    .dataframe thead th {\n",
              "        text-align: right;\n",
              "    }\n",
              "</style>\n",
              "<table border=\"1\" class=\"dataframe\">\n",
              "  <thead>\n",
              "    <tr style=\"text-align: right;\">\n",
              "      <th></th>\n",
              "      <th>average_trips</th>\n",
              "    </tr>\n",
              "  </thead>\n",
              "  <tbody>\n",
              "    <tr>\n",
              "      <th>count</th>\n",
              "      <td>94.000000</td>\n",
              "    </tr>\n",
              "    <tr>\n",
              "      <th>mean</th>\n",
              "      <td>599.953728</td>\n",
              "    </tr>\n",
              "    <tr>\n",
              "      <th>std</th>\n",
              "      <td>1714.591098</td>\n",
              "    </tr>\n",
              "    <tr>\n",
              "      <th>min</th>\n",
              "      <td>1.800000</td>\n",
              "    </tr>\n",
              "    <tr>\n",
              "      <th>25%</th>\n",
              "      <td>14.266667</td>\n",
              "    </tr>\n",
              "    <tr>\n",
              "      <th>50%</th>\n",
              "      <td>52.016667</td>\n",
              "    </tr>\n",
              "    <tr>\n",
              "      <th>75%</th>\n",
              "      <td>298.858333</td>\n",
              "    </tr>\n",
              "    <tr>\n",
              "      <th>max</th>\n",
              "      <td>10727.466667</td>\n",
              "    </tr>\n",
              "  </tbody>\n",
              "</table>\n",
              "</div>"
            ],
            "text/plain": [
              "       average_trips\n",
              "count      94.000000\n",
              "mean      599.953728\n",
              "std      1714.591098\n",
              "min         1.800000\n",
              "25%        14.266667\n",
              "50%        52.016667\n",
              "75%       298.858333\n",
              "max     10727.466667"
            ]
          },
          "metadata": {},
          "output_type": "display_data"
        }
      ],
      "source": [
        "display(trips_avg.head(30))\n",
        "print('\\n')\n",
        "display(trips_avg.info(show_counts = True))\n",
        "print('\\n')\n",
        "display(trips_avg.describe())"
      ]
    },
    {
      "cell_type": "code",
      "execution_count": null,
      "metadata": {
        "id": "cU26hrxRiu7V",
        "outputId": "e68502b1-6178-473f-b922-e7d4a699a9b6"
      },
      "outputs": [
        {
          "data": {
            "text/html": [
              "<div>\n",
              "<style scoped>\n",
              "    .dataframe tbody tr th:only-of-type {\n",
              "        vertical-align: middle;\n",
              "    }\n",
              "\n",
              "    .dataframe tbody tr th {\n",
              "        vertical-align: top;\n",
              "    }\n",
              "\n",
              "    .dataframe thead th {\n",
              "        text-align: right;\n",
              "    }\n",
              "</style>\n",
              "<table border=\"1\" class=\"dataframe\">\n",
              "  <thead>\n",
              "    <tr style=\"text-align: right;\">\n",
              "      <th></th>\n",
              "      <th>start_ts</th>\n",
              "      <th>weather_conditions</th>\n",
              "      <th>duration_seconds</th>\n",
              "    </tr>\n",
              "  </thead>\n",
              "  <tbody>\n",
              "    <tr>\n",
              "      <th>0</th>\n",
              "      <td>2017-11-25 16:00:00</td>\n",
              "      <td>Good</td>\n",
              "      <td>2410.0</td>\n",
              "    </tr>\n",
              "    <tr>\n",
              "      <th>1</th>\n",
              "      <td>2017-11-25 14:00:00</td>\n",
              "      <td>Good</td>\n",
              "      <td>1920.0</td>\n",
              "    </tr>\n",
              "    <tr>\n",
              "      <th>2</th>\n",
              "      <td>2017-11-25 12:00:00</td>\n",
              "      <td>Good</td>\n",
              "      <td>1543.0</td>\n",
              "    </tr>\n",
              "    <tr>\n",
              "      <th>3</th>\n",
              "      <td>2017-11-04 10:00:00</td>\n",
              "      <td>Good</td>\n",
              "      <td>2512.0</td>\n",
              "    </tr>\n",
              "    <tr>\n",
              "      <th>4</th>\n",
              "      <td>2017-11-11 07:00:00</td>\n",
              "      <td>Good</td>\n",
              "      <td>1440.0</td>\n",
              "    </tr>\n",
              "    <tr>\n",
              "      <th>5</th>\n",
              "      <td>2017-11-11 04:00:00</td>\n",
              "      <td>Good</td>\n",
              "      <td>1320.0</td>\n",
              "    </tr>\n",
              "    <tr>\n",
              "      <th>6</th>\n",
              "      <td>2017-11-04 16:00:00</td>\n",
              "      <td>Bad</td>\n",
              "      <td>2969.0</td>\n",
              "    </tr>\n",
              "    <tr>\n",
              "      <th>7</th>\n",
              "      <td>2017-11-18 11:00:00</td>\n",
              "      <td>Good</td>\n",
              "      <td>2280.0</td>\n",
              "    </tr>\n",
              "    <tr>\n",
              "      <th>8</th>\n",
              "      <td>2017-11-11 14:00:00</td>\n",
              "      <td>Good</td>\n",
              "      <td>2460.0</td>\n",
              "    </tr>\n",
              "    <tr>\n",
              "      <th>9</th>\n",
              "      <td>2017-11-11 12:00:00</td>\n",
              "      <td>Good</td>\n",
              "      <td>2040.0</td>\n",
              "    </tr>\n",
              "    <tr>\n",
              "      <th>10</th>\n",
              "      <td>2017-11-18 06:00:00</td>\n",
              "      <td>Good</td>\n",
              "      <td>1500.0</td>\n",
              "    </tr>\n",
              "    <tr>\n",
              "      <th>11</th>\n",
              "      <td>2017-11-04 11:00:00</td>\n",
              "      <td>Good</td>\n",
              "      <td>2040.0</td>\n",
              "    </tr>\n",
              "    <tr>\n",
              "      <th>12</th>\n",
              "      <td>2017-11-11 08:00:00</td>\n",
              "      <td>Good</td>\n",
              "      <td>1470.0</td>\n",
              "    </tr>\n",
              "    <tr>\n",
              "      <th>13</th>\n",
              "      <td>2017-11-04 08:00:00</td>\n",
              "      <td>Good</td>\n",
              "      <td>1546.0</td>\n",
              "    </tr>\n",
              "    <tr>\n",
              "      <th>14</th>\n",
              "      <td>2017-11-11 16:00:00</td>\n",
              "      <td>Good</td>\n",
              "      <td>2100.0</td>\n",
              "    </tr>\n",
              "    <tr>\n",
              "      <th>15</th>\n",
              "      <td>2017-11-25 13:00:00</td>\n",
              "      <td>Good</td>\n",
              "      <td>60.0</td>\n",
              "    </tr>\n",
              "    <tr>\n",
              "      <th>16</th>\n",
              "      <td>2017-11-04 12:00:00</td>\n",
              "      <td>Good</td>\n",
              "      <td>2640.0</td>\n",
              "    </tr>\n",
              "    <tr>\n",
              "      <th>17</th>\n",
              "      <td>2017-11-25 10:00:00</td>\n",
              "      <td>Good</td>\n",
              "      <td>1502.0</td>\n",
              "    </tr>\n",
              "    <tr>\n",
              "      <th>18</th>\n",
              "      <td>2017-11-11 12:00:00</td>\n",
              "      <td>Good</td>\n",
              "      <td>1915.0</td>\n",
              "    </tr>\n",
              "    <tr>\n",
              "      <th>19</th>\n",
              "      <td>2017-11-04 12:00:00</td>\n",
              "      <td>Good</td>\n",
              "      <td>2769.0</td>\n",
              "    </tr>\n",
              "    <tr>\n",
              "      <th>20</th>\n",
              "      <td>2017-11-11 13:00:00</td>\n",
              "      <td>Good</td>\n",
              "      <td>2250.0</td>\n",
              "    </tr>\n",
              "    <tr>\n",
              "      <th>21</th>\n",
              "      <td>2017-11-11 04:00:00</td>\n",
              "      <td>Good</td>\n",
              "      <td>1260.0</td>\n",
              "    </tr>\n",
              "    <tr>\n",
              "      <th>22</th>\n",
              "      <td>2017-11-18 14:00:00</td>\n",
              "      <td>Good</td>\n",
              "      <td>2826.0</td>\n",
              "    </tr>\n",
              "    <tr>\n",
              "      <th>23</th>\n",
              "      <td>2017-11-04 14:00:00</td>\n",
              "      <td>Good</td>\n",
              "      <td>3360.0</td>\n",
              "    </tr>\n",
              "    <tr>\n",
              "      <th>24</th>\n",
              "      <td>2017-11-04 14:00:00</td>\n",
              "      <td>Good</td>\n",
              "      <td>3180.0</td>\n",
              "    </tr>\n",
              "    <tr>\n",
              "      <th>25</th>\n",
              "      <td>2017-11-25 20:00:00</td>\n",
              "      <td>Good</td>\n",
              "      <td>2100.0</td>\n",
              "    </tr>\n",
              "    <tr>\n",
              "      <th>26</th>\n",
              "      <td>2017-11-04 10:00:00</td>\n",
              "      <td>Good</td>\n",
              "      <td>1800.0</td>\n",
              "    </tr>\n",
              "    <tr>\n",
              "      <th>27</th>\n",
              "      <td>2017-11-11 12:00:00</td>\n",
              "      <td>Good</td>\n",
              "      <td>2289.0</td>\n",
              "    </tr>\n",
              "    <tr>\n",
              "      <th>28</th>\n",
              "      <td>2017-11-04 08:00:00</td>\n",
              "      <td>Good</td>\n",
              "      <td>1494.0</td>\n",
              "    </tr>\n",
              "    <tr>\n",
              "      <th>29</th>\n",
              "      <td>2017-11-11 11:00:00</td>\n",
              "      <td>Good</td>\n",
              "      <td>1560.0</td>\n",
              "    </tr>\n",
              "  </tbody>\n",
              "</table>\n",
              "</div>"
            ],
            "text/plain": [
              "               start_ts weather_conditions  duration_seconds\n",
              "0   2017-11-25 16:00:00               Good            2410.0\n",
              "1   2017-11-25 14:00:00               Good            1920.0\n",
              "2   2017-11-25 12:00:00               Good            1543.0\n",
              "3   2017-11-04 10:00:00               Good            2512.0\n",
              "4   2017-11-11 07:00:00               Good            1440.0\n",
              "5   2017-11-11 04:00:00               Good            1320.0\n",
              "6   2017-11-04 16:00:00                Bad            2969.0\n",
              "7   2017-11-18 11:00:00               Good            2280.0\n",
              "8   2017-11-11 14:00:00               Good            2460.0\n",
              "9   2017-11-11 12:00:00               Good            2040.0\n",
              "10  2017-11-18 06:00:00               Good            1500.0\n",
              "11  2017-11-04 11:00:00               Good            2040.0\n",
              "12  2017-11-11 08:00:00               Good            1470.0\n",
              "13  2017-11-04 08:00:00               Good            1546.0\n",
              "14  2017-11-11 16:00:00               Good            2100.0\n",
              "15  2017-11-25 13:00:00               Good              60.0\n",
              "16  2017-11-04 12:00:00               Good            2640.0\n",
              "17  2017-11-25 10:00:00               Good            1502.0\n",
              "18  2017-11-11 12:00:00               Good            1915.0\n",
              "19  2017-11-04 12:00:00               Good            2769.0\n",
              "20  2017-11-11 13:00:00               Good            2250.0\n",
              "21  2017-11-11 04:00:00               Good            1260.0\n",
              "22  2017-11-18 14:00:00               Good            2826.0\n",
              "23  2017-11-04 14:00:00               Good            3360.0\n",
              "24  2017-11-04 14:00:00               Good            3180.0\n",
              "25  2017-11-25 20:00:00               Good            2100.0\n",
              "26  2017-11-04 10:00:00               Good            1800.0\n",
              "27  2017-11-11 12:00:00               Good            2289.0\n",
              "28  2017-11-04 08:00:00               Good            1494.0\n",
              "29  2017-11-11 11:00:00               Good            1560.0"
            ]
          },
          "metadata": {},
          "output_type": "display_data"
        },
        {
          "name": "stdout",
          "output_type": "stream",
          "text": [
            "\n",
            "\n",
            "<class 'pandas.core.frame.DataFrame'>\n",
            "RangeIndex: 1068 entries, 0 to 1067\n",
            "Data columns (total 3 columns):\n",
            " #   Column              Non-Null Count  Dtype  \n",
            "---  ------              --------------  -----  \n",
            " 0   start_ts            1068 non-null   object \n",
            " 1   weather_conditions  1068 non-null   object \n",
            " 2   duration_seconds    1068 non-null   float64\n",
            "dtypes: float64(1), object(2)\n",
            "memory usage: 25.2+ KB\n"
          ]
        },
        {
          "data": {
            "text/plain": [
              "None"
            ]
          },
          "metadata": {},
          "output_type": "display_data"
        },
        {
          "name": "stdout",
          "output_type": "stream",
          "text": [
            "\n",
            "\n"
          ]
        },
        {
          "data": {
            "text/html": [
              "<div>\n",
              "<style scoped>\n",
              "    .dataframe tbody tr th:only-of-type {\n",
              "        vertical-align: middle;\n",
              "    }\n",
              "\n",
              "    .dataframe tbody tr th {\n",
              "        vertical-align: top;\n",
              "    }\n",
              "\n",
              "    .dataframe thead th {\n",
              "        text-align: right;\n",
              "    }\n",
              "</style>\n",
              "<table border=\"1\" class=\"dataframe\">\n",
              "  <thead>\n",
              "    <tr style=\"text-align: right;\">\n",
              "      <th></th>\n",
              "      <th>duration_seconds</th>\n",
              "    </tr>\n",
              "  </thead>\n",
              "  <tbody>\n",
              "    <tr>\n",
              "      <th>count</th>\n",
              "      <td>1068.000000</td>\n",
              "    </tr>\n",
              "    <tr>\n",
              "      <th>mean</th>\n",
              "      <td>2071.731273</td>\n",
              "    </tr>\n",
              "    <tr>\n",
              "      <th>std</th>\n",
              "      <td>769.461125</td>\n",
              "    </tr>\n",
              "    <tr>\n",
              "      <th>min</th>\n",
              "      <td>0.000000</td>\n",
              "    </tr>\n",
              "    <tr>\n",
              "      <th>25%</th>\n",
              "      <td>1438.250000</td>\n",
              "    </tr>\n",
              "    <tr>\n",
              "      <th>50%</th>\n",
              "      <td>1980.000000</td>\n",
              "    </tr>\n",
              "    <tr>\n",
              "      <th>75%</th>\n",
              "      <td>2580.000000</td>\n",
              "    </tr>\n",
              "    <tr>\n",
              "      <th>max</th>\n",
              "      <td>7440.000000</td>\n",
              "    </tr>\n",
              "  </tbody>\n",
              "</table>\n",
              "</div>"
            ],
            "text/plain": [
              "       duration_seconds\n",
              "count       1068.000000\n",
              "mean        2071.731273\n",
              "std          769.461125\n",
              "min            0.000000\n",
              "25%         1438.250000\n",
              "50%         1980.000000\n",
              "75%         2580.000000\n",
              "max         7440.000000"
            ]
          },
          "metadata": {},
          "output_type": "display_data"
        },
        {
          "name": "stdout",
          "output_type": "stream",
          "text": [
            "\n",
            "\n"
          ]
        }
      ],
      "source": [
        "display(trips_airport.head(30))\n",
        "print('\\n')\n",
        "display(trips_airport.info(show_counts = True))\n",
        "print('\\n')\n",
        "display(trips_airport.describe())\n",
        "print('\\n')"
      ]
    },
    {
      "cell_type": "markdown",
      "metadata": {
        "id": "z0UVs2JCiu7W"
      },
      "source": [
        "### Duplicados\n",
        "\n",
        "Verificando duplicados de los 3 dataframe"
      ]
    },
    {
      "cell_type": "code",
      "execution_count": null,
      "metadata": {
        "id": "uw6PFHJsiu7W",
        "outputId": "27c2b838-44af-48a8-d934-65e72ecd760d"
      },
      "outputs": [
        {
          "name": "stdout",
          "output_type": "stream",
          "text": [
            "Empty DataFrame\n",
            "Columns: [company_name, trips_amount]\n",
            "Index: []\n"
          ]
        }
      ],
      "source": [
        "print( trips [ trips.duplicated() == True ] )\n",
        "\n",
        "# Si es \"Empty DataFrame\" = No hay filas duplicadas"
      ]
    },
    {
      "cell_type": "code",
      "execution_count": null,
      "metadata": {
        "id": "x2Pv9BU7iu7W",
        "outputId": "6ac7ebbc-3edc-4517-aa37-2743335d9185"
      },
      "outputs": [
        {
          "name": "stdout",
          "output_type": "stream",
          "text": [
            "Empty DataFrame\n",
            "Columns: [dropoff_location_name, average_trips]\n",
            "Index: []\n"
          ]
        }
      ],
      "source": [
        "print( trips_avg [ trips_avg.duplicated() == True ] )\n",
        "\n",
        "# Si es \"Empty DataFrame\" = No hay filas duplicadas"
      ]
    },
    {
      "cell_type": "code",
      "execution_count": null,
      "metadata": {
        "id": "d_MCyprwiu7X",
        "outputId": "0ce6bbb2-f9f2-4055-dcd4-946380e5a422"
      },
      "outputs": [
        {
          "name": "stdout",
          "output_type": "stream",
          "text": [
            "                 start_ts weather_conditions  duration_seconds\n",
            "62    2017-11-11 06:00:00               Good            1260.0\n",
            "74    2017-11-11 08:00:00               Good            1380.0\n",
            "76    2017-11-04 09:00:00               Good            1380.0\n",
            "117   2017-11-11 07:00:00               Good            1380.0\n",
            "119   2017-11-04 14:00:00               Good            3300.0\n",
            "...                   ...                ...               ...\n",
            "1054  2017-11-11 07:00:00               Good            1380.0\n",
            "1058  2017-11-25 12:00:00               Good            1440.0\n",
            "1062  2017-11-11 06:00:00               Good            1500.0\n",
            "1065  2017-11-11 13:00:00               Good            2100.0\n",
            "1066  2017-11-11 08:00:00               Good            1380.0\n",
            "\n",
            "[197 rows x 3 columns]\n"
          ]
        }
      ],
      "source": [
        "print( trips_airport [ trips_airport.duplicated() == True ] )\n",
        "\n",
        "# Si es \"Empty DataFrame\" = No hay filas duplicadas"
      ]
    },
    {
      "cell_type": "markdown",
      "metadata": {
        "id": "ykKo3x82iu7X"
      },
      "source": [
        "### Valores nulos"
      ]
    },
    {
      "cell_type": "code",
      "execution_count": null,
      "metadata": {
        "id": "HC4guKoiiu7X",
        "outputId": "44fb4999-2725-451c-ef5b-e8cd4c1b2ddb"
      },
      "outputs": [
        {
          "data": {
            "text/html": [
              "<div>\n",
              "<style scoped>\n",
              "    .dataframe tbody tr th:only-of-type {\n",
              "        vertical-align: middle;\n",
              "    }\n",
              "\n",
              "    .dataframe tbody tr th {\n",
              "        vertical-align: top;\n",
              "    }\n",
              "\n",
              "    .dataframe thead th {\n",
              "        text-align: right;\n",
              "    }\n",
              "</style>\n",
              "<table border=\"1\" class=\"dataframe\">\n",
              "  <thead>\n",
              "    <tr style=\"text-align: right;\">\n",
              "      <th></th>\n",
              "      <th>company_name</th>\n",
              "      <th>trips_amount</th>\n",
              "    </tr>\n",
              "  </thead>\n",
              "  <tbody>\n",
              "  </tbody>\n",
              "</table>\n",
              "</div>"
            ],
            "text/plain": [
              "Empty DataFrame\n",
              "Columns: [company_name, trips_amount]\n",
              "Index: []"
            ]
          },
          "metadata": {},
          "output_type": "display_data"
        },
        {
          "data": {
            "text/html": [
              "<div>\n",
              "<style scoped>\n",
              "    .dataframe tbody tr th:only-of-type {\n",
              "        vertical-align: middle;\n",
              "    }\n",
              "\n",
              "    .dataframe tbody tr th {\n",
              "        vertical-align: top;\n",
              "    }\n",
              "\n",
              "    .dataframe thead th {\n",
              "        text-align: right;\n",
              "    }\n",
              "</style>\n",
              "<table border=\"1\" class=\"dataframe\">\n",
              "  <thead>\n",
              "    <tr style=\"text-align: right;\">\n",
              "      <th></th>\n",
              "      <th>company_name</th>\n",
              "      <th>trips_amount</th>\n",
              "    </tr>\n",
              "  </thead>\n",
              "  <tbody>\n",
              "  </tbody>\n",
              "</table>\n",
              "</div>"
            ],
            "text/plain": [
              "Empty DataFrame\n",
              "Columns: [company_name, trips_amount]\n",
              "Index: []"
            ]
          },
          "metadata": {},
          "output_type": "display_data"
        }
      ],
      "source": [
        "# Valores ausentes en las columnas\n",
        "\n",
        "display( trips[trips['company_name'].isna()] )\n",
        "\n",
        "display( trips[trips['trips_amount'].isna()] )\n",
        "\n",
        "# Si es \"Empty DataFrame\" = No hay filas con valor nulo de la columna"
      ]
    },
    {
      "cell_type": "code",
      "execution_count": null,
      "metadata": {
        "id": "sJXJRA3yiu7X",
        "outputId": "e4074624-849d-47de-ef09-29fce6261d47"
      },
      "outputs": [
        {
          "data": {
            "text/html": [
              "<div>\n",
              "<style scoped>\n",
              "    .dataframe tbody tr th:only-of-type {\n",
              "        vertical-align: middle;\n",
              "    }\n",
              "\n",
              "    .dataframe tbody tr th {\n",
              "        vertical-align: top;\n",
              "    }\n",
              "\n",
              "    .dataframe thead th {\n",
              "        text-align: right;\n",
              "    }\n",
              "</style>\n",
              "<table border=\"1\" class=\"dataframe\">\n",
              "  <thead>\n",
              "    <tr style=\"text-align: right;\">\n",
              "      <th></th>\n",
              "      <th>dropoff_location_name</th>\n",
              "      <th>average_trips</th>\n",
              "    </tr>\n",
              "  </thead>\n",
              "  <tbody>\n",
              "  </tbody>\n",
              "</table>\n",
              "</div>"
            ],
            "text/plain": [
              "Empty DataFrame\n",
              "Columns: [dropoff_location_name, average_trips]\n",
              "Index: []"
            ]
          },
          "metadata": {},
          "output_type": "display_data"
        },
        {
          "data": {
            "text/html": [
              "<div>\n",
              "<style scoped>\n",
              "    .dataframe tbody tr th:only-of-type {\n",
              "        vertical-align: middle;\n",
              "    }\n",
              "\n",
              "    .dataframe tbody tr th {\n",
              "        vertical-align: top;\n",
              "    }\n",
              "\n",
              "    .dataframe thead th {\n",
              "        text-align: right;\n",
              "    }\n",
              "</style>\n",
              "<table border=\"1\" class=\"dataframe\">\n",
              "  <thead>\n",
              "    <tr style=\"text-align: right;\">\n",
              "      <th></th>\n",
              "      <th>dropoff_location_name</th>\n",
              "      <th>average_trips</th>\n",
              "    </tr>\n",
              "  </thead>\n",
              "  <tbody>\n",
              "  </tbody>\n",
              "</table>\n",
              "</div>"
            ],
            "text/plain": [
              "Empty DataFrame\n",
              "Columns: [dropoff_location_name, average_trips]\n",
              "Index: []"
            ]
          },
          "metadata": {},
          "output_type": "display_data"
        }
      ],
      "source": [
        "# Valores ausentes en las columnas\n",
        "\n",
        "display( trips_avg[trips_avg['dropoff_location_name'].isna()] )\n",
        "\n",
        "display( trips_avg[trips_avg['average_trips'].isna()] )\n",
        "\n",
        "# Si es \"Empty DataFrame\" = No hay filas con valor nulo de la columna"
      ]
    },
    {
      "cell_type": "code",
      "execution_count": null,
      "metadata": {
        "id": "wo7SCSgsiu7Y",
        "outputId": "f9e10824-74c3-4da3-d88c-b1d1c173379a"
      },
      "outputs": [
        {
          "data": {
            "text/html": [
              "<div>\n",
              "<style scoped>\n",
              "    .dataframe tbody tr th:only-of-type {\n",
              "        vertical-align: middle;\n",
              "    }\n",
              "\n",
              "    .dataframe tbody tr th {\n",
              "        vertical-align: top;\n",
              "    }\n",
              "\n",
              "    .dataframe thead th {\n",
              "        text-align: right;\n",
              "    }\n",
              "</style>\n",
              "<table border=\"1\" class=\"dataframe\">\n",
              "  <thead>\n",
              "    <tr style=\"text-align: right;\">\n",
              "      <th></th>\n",
              "      <th>start_ts</th>\n",
              "      <th>weather_conditions</th>\n",
              "      <th>duration_seconds</th>\n",
              "    </tr>\n",
              "  </thead>\n",
              "  <tbody>\n",
              "  </tbody>\n",
              "</table>\n",
              "</div>"
            ],
            "text/plain": [
              "Empty DataFrame\n",
              "Columns: [start_ts, weather_conditions, duration_seconds]\n",
              "Index: []"
            ]
          },
          "metadata": {},
          "output_type": "display_data"
        },
        {
          "data": {
            "text/html": [
              "<div>\n",
              "<style scoped>\n",
              "    .dataframe tbody tr th:only-of-type {\n",
              "        vertical-align: middle;\n",
              "    }\n",
              "\n",
              "    .dataframe tbody tr th {\n",
              "        vertical-align: top;\n",
              "    }\n",
              "\n",
              "    .dataframe thead th {\n",
              "        text-align: right;\n",
              "    }\n",
              "</style>\n",
              "<table border=\"1\" class=\"dataframe\">\n",
              "  <thead>\n",
              "    <tr style=\"text-align: right;\">\n",
              "      <th></th>\n",
              "      <th>start_ts</th>\n",
              "      <th>weather_conditions</th>\n",
              "      <th>duration_seconds</th>\n",
              "    </tr>\n",
              "  </thead>\n",
              "  <tbody>\n",
              "  </tbody>\n",
              "</table>\n",
              "</div>"
            ],
            "text/plain": [
              "Empty DataFrame\n",
              "Columns: [start_ts, weather_conditions, duration_seconds]\n",
              "Index: []"
            ]
          },
          "metadata": {},
          "output_type": "display_data"
        },
        {
          "data": {
            "text/html": [
              "<div>\n",
              "<style scoped>\n",
              "    .dataframe tbody tr th:only-of-type {\n",
              "        vertical-align: middle;\n",
              "    }\n",
              "\n",
              "    .dataframe tbody tr th {\n",
              "        vertical-align: top;\n",
              "    }\n",
              "\n",
              "    .dataframe thead th {\n",
              "        text-align: right;\n",
              "    }\n",
              "</style>\n",
              "<table border=\"1\" class=\"dataframe\">\n",
              "  <thead>\n",
              "    <tr style=\"text-align: right;\">\n",
              "      <th></th>\n",
              "      <th>start_ts</th>\n",
              "      <th>weather_conditions</th>\n",
              "      <th>duration_seconds</th>\n",
              "    </tr>\n",
              "  </thead>\n",
              "  <tbody>\n",
              "  </tbody>\n",
              "</table>\n",
              "</div>"
            ],
            "text/plain": [
              "Empty DataFrame\n",
              "Columns: [start_ts, weather_conditions, duration_seconds]\n",
              "Index: []"
            ]
          },
          "metadata": {},
          "output_type": "display_data"
        }
      ],
      "source": [
        "# Valores ausentes en las columnas\n",
        "\n",
        "display( trips_airport[trips_airport['start_ts'].isna()] )\n",
        "\n",
        "display( trips_airport[trips_airport['weather_conditions'].isna()] )\n",
        "\n",
        "display( trips_airport[trips_airport['duration_seconds'].isna()] )\n",
        "\n",
        "# Si es \"Empty DataFrame\" = No hay filas con valor nulo de la columna"
      ]
    },
    {
      "cell_type": "markdown",
      "metadata": {
        "id": "3uF6PUHMiu7Y"
      },
      "source": [
        "### Observaciones\n",
        "\n",
        "- Cada dataframe tiene diferente numero de columnas\n",
        "- No hay valores duplicados, en el caso de los duplicados de trips_airport, no aplica, porque varios pueden tener la misma fecha y hora, clima y duración."
      ]
    },
    {
      "cell_type": "markdown",
      "metadata": {
        "id": "DFH6Zi3aiu7Y"
      },
      "source": [
        "## Preparación de los datos\n",
        "\n",
        "- En esta ocasión no se requiere correcciones de duplicados o valores nulos, porque no hubieron\n",
        "- Sin embargo, si el tipo de datos para trips_airport a formato datetime en la columna start_ts\n",
        "\n",
        "### Cambiar tipo de dato"
      ]
    },
    {
      "cell_type": "code",
      "execution_count": null,
      "metadata": {
        "id": "6bmuQVQCiu7Y",
        "outputId": "3f52bc66-2846-4790-fc15-c45bc1c0a847"
      },
      "outputs": [
        {
          "name": "stdout",
          "output_type": "stream",
          "text": [
            "<class 'pandas.core.frame.DataFrame'>\n",
            "RangeIndex: 1068 entries, 0 to 1067\n",
            "Data columns (total 3 columns):\n",
            " #   Column              Non-Null Count  Dtype         \n",
            "---  ------              --------------  -----         \n",
            " 0   start_ts            1068 non-null   datetime64[ns]\n",
            " 1   weather_conditions  1068 non-null   object        \n",
            " 2   duration_seconds    1068 non-null   float64       \n",
            "dtypes: datetime64[ns](1), float64(1), object(1)\n",
            "memory usage: 25.2+ KB\n",
            "\n",
            "0      2017-11-25 16:00:00\n",
            "1      2017-11-25 14:00:00\n",
            "2      2017-11-25 12:00:00\n",
            "3      2017-11-04 10:00:00\n",
            "4      2017-11-11 07:00:00\n",
            "               ...        \n",
            "1063   2017-11-25 11:00:00\n",
            "1064   2017-11-11 10:00:00\n",
            "1065   2017-11-11 13:00:00\n",
            "1066   2017-11-11 08:00:00\n",
            "1067   2017-11-04 16:00:00\n",
            "Name: start_ts, Length: 1068, dtype: datetime64[ns]\n"
          ]
        }
      ],
      "source": [
        "# Convertir de string a float (Columna 'start_ts')\n",
        "\n",
        "trips_airport['start_ts'] = trips_airport['start_ts'].astype('datetime64')\n",
        "\n",
        "trips_airport.info()\n",
        "print()\n",
        "print( trips_airport['start_ts'] )"
      ]
    },
    {
      "cell_type": "markdown",
      "metadata": {
        "id": "35zCwYGgiu7Z"
      },
      "source": [
        "## Analiisis"
      ]
    },
    {
      "cell_type": "markdown",
      "metadata": {
        "id": "djRz75Aeiu7Z"
      },
      "source": [
        "### 10 barrios principales en términos de finalización del recorrido"
      ]
    },
    {
      "cell_type": "code",
      "execution_count": null,
      "metadata": {
        "scrolled": true,
        "id": "ipmb2v3niu7Z",
        "outputId": "6690bbae-8b3c-41da-c9b2-36862a03b7b8"
      },
      "outputs": [
        {
          "data": {
            "text/html": [
              "<div>\n",
              "<style scoped>\n",
              "    .dataframe tbody tr th:only-of-type {\n",
              "        vertical-align: middle;\n",
              "    }\n",
              "\n",
              "    .dataframe tbody tr th {\n",
              "        vertical-align: top;\n",
              "    }\n",
              "\n",
              "    .dataframe thead th {\n",
              "        text-align: right;\n",
              "    }\n",
              "</style>\n",
              "<table border=\"1\" class=\"dataframe\">\n",
              "  <thead>\n",
              "    <tr style=\"text-align: right;\">\n",
              "      <th></th>\n",
              "      <th>dropoff_location_name</th>\n",
              "      <th>average_trips</th>\n",
              "    </tr>\n",
              "  </thead>\n",
              "  <tbody>\n",
              "    <tr>\n",
              "      <th>0</th>\n",
              "      <td>Loop</td>\n",
              "      <td>10727.466667</td>\n",
              "    </tr>\n",
              "    <tr>\n",
              "      <th>1</th>\n",
              "      <td>River North</td>\n",
              "      <td>9523.666667</td>\n",
              "    </tr>\n",
              "    <tr>\n",
              "      <th>2</th>\n",
              "      <td>Streeterville</td>\n",
              "      <td>6664.666667</td>\n",
              "    </tr>\n",
              "    <tr>\n",
              "      <th>3</th>\n",
              "      <td>West Loop</td>\n",
              "      <td>5163.666667</td>\n",
              "    </tr>\n",
              "    <tr>\n",
              "      <th>4</th>\n",
              "      <td>O'Hare</td>\n",
              "      <td>2546.900000</td>\n",
              "    </tr>\n",
              "    <tr>\n",
              "      <th>5</th>\n",
              "      <td>Lake View</td>\n",
              "      <td>2420.966667</td>\n",
              "    </tr>\n",
              "    <tr>\n",
              "      <th>6</th>\n",
              "      <td>Grant Park</td>\n",
              "      <td>2068.533333</td>\n",
              "    </tr>\n",
              "    <tr>\n",
              "      <th>7</th>\n",
              "      <td>Museum Campus</td>\n",
              "      <td>1510.000000</td>\n",
              "    </tr>\n",
              "    <tr>\n",
              "      <th>8</th>\n",
              "      <td>Gold Coast</td>\n",
              "      <td>1364.233333</td>\n",
              "    </tr>\n",
              "    <tr>\n",
              "      <th>9</th>\n",
              "      <td>Sheffield &amp; DePaul</td>\n",
              "      <td>1259.766667</td>\n",
              "    </tr>\n",
              "  </tbody>\n",
              "</table>\n",
              "</div>"
            ],
            "text/plain": [
              "  dropoff_location_name  average_trips\n",
              "0                  Loop   10727.466667\n",
              "1           River North    9523.666667\n",
              "2         Streeterville    6664.666667\n",
              "3             West Loop    5163.666667\n",
              "4                O'Hare    2546.900000\n",
              "5             Lake View    2420.966667\n",
              "6            Grant Park    2068.533333\n",
              "7         Museum Campus    1510.000000\n",
              "8            Gold Coast    1364.233333\n",
              "9    Sheffield & DePaul    1259.766667"
            ]
          },
          "metadata": {},
          "output_type": "display_data"
        }
      ],
      "source": [
        "top_10_neighbhd = trips_avg.groupby('dropoff_location_name')[['average_trips']].sum().sort_values(by='average_trips', ascending=False).reset_index()\n",
        "\n",
        "display(top_10_neighbhd.head(10))"
      ]
    },
    {
      "cell_type": "code",
      "execution_count": null,
      "metadata": {
        "id": "BxEvlNKBiu7a",
        "outputId": "91078ae1-c76d-43f2-8917-05ca34b88c3d"
      },
      "outputs": [
        {
          "data": {
            "image/png": "[encoded data removed]",
            "text/plain": [
              "<Figure size 432x288 with 1 Axes>"
            ]
          },
          "metadata": {
            "needs_background": "light"
          },
          "output_type": "display_data"
        }
      ],
      "source": [
        "# Hacer slice del dataframe de valores destacados para evitar aglomeración de valores del eje x\n",
        "top_10_neighbhd_sliced = top_10_neighbhd[0:10]\n",
        "\n",
        "# Gráfico de barras a partir del slice del dataframe\n",
        "plt.figure()\n",
        "\n",
        "plt.bar(top_10_neighbhd_sliced['dropoff_location_name'], top_10_neighbhd_sliced['average_trips'])\n",
        "\n",
        "plt.xlabel('Neighborhood')\n",
        "plt.ylabel('Trips average')\n",
        "\n",
        "plt.xticks(rotation=90)\n",
        "\n",
        "plt.ylim((None,12000))\n",
        "\n",
        "plt.title( 'Trips average by dropoff_location')\n",
        "\n",
        "plt.show()"
      ]
    },
    {
      "cell_type": "code",
      "execution_count": null,
      "metadata": {
        "scrolled": false,
        "id": "g99Sa9wwiu7a",
        "outputId": "99af214a-f918-4929-ee96-0a53633d49ee"
      },
      "outputs": [
        {
          "data": {
            "text/plain": [
              "array([[<AxesSubplot:title={'center':'average_trips'}>]], dtype=object)"
            ]
          },
          "execution_count": 15,
          "metadata": {},
          "output_type": "execute_result"
        },
        {
          "data": {
            "image/png": "[encoded data removed]",
            "text/plain": [
              "<Figure size 432x288 with 1 Axes>"
            ]
          },
          "metadata": {
            "needs_background": "light"
          },
          "output_type": "display_data"
        }
      ],
      "source": [
        "top_10_neighbhd.hist(bins=[0, 2000, 4000, 6000, 8000, 10000, 12000], alpha=0.5)"
      ]
    },
    {
      "cell_type": "markdown",
      "metadata": {
        "id": "DGZcZJukiu7a"
      },
      "source": [
        "### Observaciones\n",
        "\n",
        "En el gráfico de barras se observa que Loop es el destino de viaje principal, con un promedio de 10727 viajes, seguido de River North con un promedio de 9524 viajes.\n",
        "\n",
        "En el histograma se observa que la mayoria de los destinos están entre 1 y 2000 viajes, y la distribución de las frecuencias muestra un sesgo a la izquierda ya que hay mas destinos con bajos valores de viajes.\n"
      ]
    },
    {
      "cell_type": "markdown",
      "metadata": {
        "id": "OC4zWjwaiu7a"
      },
      "source": [
        "### Top 10 compañias por viajes realizados"
      ]
    },
    {
      "cell_type": "code",
      "execution_count": null,
      "metadata": {
        "id": "LsNz1Dmdiu7b",
        "outputId": "f66d763f-22d4-4d1e-840e-6820978a18cb"
      },
      "outputs": [
        {
          "data": {
            "text/html": [
              "<div>\n",
              "<style scoped>\n",
              "    .dataframe tbody tr th:only-of-type {\n",
              "        vertical-align: middle;\n",
              "    }\n",
              "\n",
              "    .dataframe tbody tr th {\n",
              "        vertical-align: top;\n",
              "    }\n",
              "\n",
              "    .dataframe thead th {\n",
              "        text-align: right;\n",
              "    }\n",
              "</style>\n",
              "<table border=\"1\" class=\"dataframe\">\n",
              "  <thead>\n",
              "    <tr style=\"text-align: right;\">\n",
              "      <th></th>\n",
              "      <th>company_name</th>\n",
              "      <th>trips_amount</th>\n",
              "    </tr>\n",
              "  </thead>\n",
              "  <tbody>\n",
              "    <tr>\n",
              "      <th>0</th>\n",
              "      <td>Flash Cab</td>\n",
              "      <td>19558</td>\n",
              "    </tr>\n",
              "    <tr>\n",
              "      <th>1</th>\n",
              "      <td>Taxi Affiliation Services</td>\n",
              "      <td>11422</td>\n",
              "    </tr>\n",
              "    <tr>\n",
              "      <th>2</th>\n",
              "      <td>Medallion Leasin</td>\n",
              "      <td>10367</td>\n",
              "    </tr>\n",
              "    <tr>\n",
              "      <th>3</th>\n",
              "      <td>Yellow Cab</td>\n",
              "      <td>9888</td>\n",
              "    </tr>\n",
              "    <tr>\n",
              "      <th>4</th>\n",
              "      <td>Taxi Affiliation Service Yellow</td>\n",
              "      <td>9299</td>\n",
              "    </tr>\n",
              "    <tr>\n",
              "      <th>5</th>\n",
              "      <td>Chicago Carriage Cab Corp</td>\n",
              "      <td>9181</td>\n",
              "    </tr>\n",
              "    <tr>\n",
              "      <th>6</th>\n",
              "      <td>City Service</td>\n",
              "      <td>8448</td>\n",
              "    </tr>\n",
              "    <tr>\n",
              "      <th>7</th>\n",
              "      <td>Sun Taxi</td>\n",
              "      <td>7701</td>\n",
              "    </tr>\n",
              "    <tr>\n",
              "      <th>8</th>\n",
              "      <td>Star North Management LLC</td>\n",
              "      <td>7455</td>\n",
              "    </tr>\n",
              "    <tr>\n",
              "      <th>9</th>\n",
              "      <td>Blue Ribbon Taxi Association Inc.</td>\n",
              "      <td>5953</td>\n",
              "    </tr>\n",
              "  </tbody>\n",
              "</table>\n",
              "</div>"
            ],
            "text/plain": [
              "                        company_name  trips_amount\n",
              "0                          Flash Cab         19558\n",
              "1          Taxi Affiliation Services         11422\n",
              "2                   Medallion Leasin         10367\n",
              "3                         Yellow Cab          9888\n",
              "4    Taxi Affiliation Service Yellow          9299\n",
              "5          Chicago Carriage Cab Corp          9181\n",
              "6                       City Service          8448\n",
              "7                           Sun Taxi          7701\n",
              "8          Star North Management LLC          7455\n",
              "9  Blue Ribbon Taxi Association Inc.          5953"
            ]
          },
          "metadata": {},
          "output_type": "display_data"
        },
        {
          "name": "stdout",
          "output_type": "stream",
          "text": [
            "<class 'pandas.core.frame.DataFrame'>\n",
            "RangeIndex: 64 entries, 0 to 63\n",
            "Data columns (total 2 columns):\n",
            " #   Column        Non-Null Count  Dtype \n",
            "---  ------        --------------  ----- \n",
            " 0   company_name  64 non-null     object\n",
            " 1   trips_amount  64 non-null     int64 \n",
            "dtypes: int64(1), object(1)\n",
            "memory usage: 1.1+ KB\n"
          ]
        }
      ],
      "source": [
        "top_10_companies = trips.groupby('company_name')[['trips_amount']].sum().sort_values(by='trips_amount', ascending=False).reset_index()\n",
        "\n",
        "display ( top_10_companies.head(10) )\n",
        "\n",
        "top_10_companies.info()"
      ]
    },
    {
      "cell_type": "markdown",
      "metadata": {
        "id": "Ia5kLFTOiu7b"
      },
      "source": [
        "### Empresas de taxis y número de viajes, los 10 barrios principales por número de finalizaciones"
      ]
    },
    {
      "cell_type": "code",
      "execution_count": null,
      "metadata": {
        "id": "xbLpxP_liu7b",
        "outputId": "515777ec-4f78-4b66-cb33-4971c8680867"
      },
      "outputs": [
        {
          "data": {
            "image/png": "[encoded data removed]",
            "text/plain": [
              "<Figure size 432x288 with 1 Axes>"
            ]
          },
          "metadata": {
            "needs_background": "light"
          },
          "output_type": "display_data"
        }
      ],
      "source": [
        "# Hacer slice del dataframe de valores destacados para evitar aglomeración de valores del eje x\n",
        "top_10_companies_slice = top_10_companies[0:10]\n",
        "\n",
        "plt.figure()\n",
        "\n",
        "plt.bar(top_10_companies_slice['company_name'], top_10_companies_slice['trips_amount'])\n",
        "\n",
        "plt.xlabel('Taxi company')\n",
        "plt.ylabel('Total trips')\n",
        "\n",
        "plt.xticks(rotation=90)\n",
        "\n",
        "plt.ylim((2500,20000))\n",
        "\n",
        "plt.title( 'Trips by company')\n",
        "\n",
        "plt.show()"
      ]
    },
    {
      "cell_type": "code",
      "execution_count": null,
      "metadata": {
        "id": "pg7dYsB6iu7b",
        "outputId": "96af4c80-0637-4707-ab17-c55895eca5b2"
      },
      "outputs": [
        {
          "data": {
            "text/plain": [
              "array([[<AxesSubplot:title={'center':'trips_amount'}>]], dtype=object)"
            ]
          },
          "execution_count": 18,
          "metadata": {},
          "output_type": "execute_result"
        },
        {
          "data": {
            "image/png": "[encoded data removed]",
            "text/plain": [
              "<Figure size 432x288 with 1 Axes>"
            ]
          },
          "metadata": {
            "needs_background": "light"
          },
          "output_type": "display_data"
        }
      ],
      "source": [
        "top_10_companies.hist(bins=[0, 4000, 8000, 12000, 16000, 20000], alpha=0.5)\n",
        ""
      ]
    },
    {
      "cell_type": "markdown",
      "metadata": {
        "id": "9wa_1tTsiu7j"
      },
      "source": [
        "### Observaciones\n",
        "\n",
        "En el gráfico de barras se observa que Flash Cab es la compañia principal, con 19558 viajes realizados, casi el doble de la copañia que le sigue Taxi Affiliation Services (11422)\n",
        "\n",
        "En el histograma se observa que la mayoria de las compañias de taxi realizan entre 1 y 4000 viajes, y la distribución de las frecuencias muestra un sesgo a la izquierda ya que hay mas compañias con bajos valores de viajes, considerando que el top 10 esta entre 6000 y 20000 viajes."
      ]
    },
    {
      "cell_type": "markdown",
      "metadata": {
        "id": "HxWUQuEkiu7k"
      },
      "source": [
        "## Prueba de hipótesis"
      ]
    },
    {
      "cell_type": "markdown",
      "metadata": {
        "id": "11W_E6CTiu7k"
      },
      "source": [
        "- Hipotesis: \"La duración promedio de los viajes desde el Loop hasta el Aeropuerto Internacional O'Hare cambia los sábados lluviosos\".\n",
        "-\n",
        "- Hipotesis nula: La duración promedio de los viajes desde el Loop hasta el Aeropuerto Internacional O'Hare <b>no</b> cambia los sabados lluviosos\n",
        "-\n",
        "- Hipotesis alternativa: La duración promedio de los viajes desde el Loop hasta el Aeropuerto Internacional O'Hare <b>sí</b> cambia los sabados lluviosos\n",
        "-\n",
        "- Nivel de significación (alfa) = 0.05"
      ]
    },
    {
      "cell_type": "code",
      "execution_count": null,
      "metadata": {
        "id": "DWgHD1Gciu7k",
        "outputId": "14fcb522-8763-4f24-b9d3-38848d7b55ce"
      },
      "outputs": [
        {
          "data": {
            "text/plain": [
              "start_ts\n",
              "5    2071.731273\n",
              "Name: duration_seconds, dtype: float64"
            ]
          },
          "metadata": {},
          "output_type": "display_data"
        },
        {
          "data": {
            "text/plain": [
              "6       2969.0\n",
              "30      1980.0\n",
              "34      2460.0\n",
              "51      2760.0\n",
              "52      2460.0\n",
              "         ...  \n",
              "1031    2560.0\n",
              "1032    1908.0\n",
              "1053    2400.0\n",
              "1061    2186.0\n",
              "1067    2834.0\n",
              "Name: duration_seconds, Length: 180, dtype: float64"
            ]
          },
          "metadata": {},
          "output_type": "display_data"
        },
        {
          "data": {
            "text/plain": [
              "0       2410.0\n",
              "1       1920.0\n",
              "2       1543.0\n",
              "3       2512.0\n",
              "4       1440.0\n",
              "         ...  \n",
              "1062    1500.0\n",
              "1063       0.0\n",
              "1064    1318.0\n",
              "1065    2100.0\n",
              "1066    1380.0\n",
              "Name: duration_seconds, Length: 888, dtype: float64"
            ]
          },
          "metadata": {},
          "output_type": "display_data"
        }
      ],
      "source": [
        "# Datos de los viajes al aeropuerto O'Haren\n",
        "\n",
        "\n",
        "# Verificando mediante la agrupación por dias de la semana que dias hay en el dataframe (5 = sabado)\n",
        "day_of_week_verif = trips_airport.groupby(trips_airport['start_ts'].dt.dayofweek)['duration_seconds'].mean()\n",
        "display(day_of_week_verif)\n",
        "\n",
        "trip_duration_bad = trips_airport[trips_airport['weather_conditions'] == 'Bad']['duration_seconds']\n",
        "display(trip_duration_bad)\n",
        "\n",
        "trip_duration_good = trips_airport[trips_airport['weather_conditions'] == 'Good']['duration_seconds']\n",
        "display(trip_duration_good)\n",
        "\n"
      ]
    },
    {
      "cell_type": "code",
      "execution_count": null,
      "metadata": {
        "id": "bW2VUs44iu7l",
        "outputId": "c3699e17-f7c9-4906-e56b-a43492719a83"
      },
      "outputs": [
        {
          "name": "stdout",
          "output_type": "stream",
          "text": [
            "varianza_bad = 517403.56330246915\n",
            "varianza_good = 575732.9308497686\n",
            "\n",
            "relación_varianza = 1.1127347619622028\n"
          ]
        }
      ],
      "source": [
        "# Analisis de varianza\n",
        "\n",
        "m1 = np.var(trip_duration_bad)\n",
        "print('varianza_bad =', m1)\n",
        "\n",
        "m2 = np.var(trip_duration_good)\n",
        "print('varianza_good =', m2)\n",
        "\n",
        "# relación entre las varianzas: (mayor entre menor)\n",
        "print()\n",
        "relacion_var = m2 / m1\n",
        "print( 'relación_varianza =', relacion_var )\n",
        "\n"
      ]
    },
    {
      "cell_type": "markdown",
      "metadata": {
        "id": "bJ73zo6yiu7m"
      },
      "source": [
        "Regla empirica de la varianza\n",
        "Si la relación es menor que 4, puede asumirse que las varianzas son aproximadamente iguales y usar la prueba t de Student.\n",
        "\n",
        "En este el valor obtenido (1.112...) cumple con este criterio por lo que podemos hacer uso de la prueba t"
      ]
    },
    {
      "cell_type": "code",
      "execution_count": null,
      "metadata": {
        "scrolled": true,
        "id": "u6-E1Isoiu7m",
        "outputId": "70b3f2de-44b5-410d-bd75-2ce230abdcc7"
      },
      "outputs": [
        {
          "name": "stdout",
          "output_type": "stream",
          "text": [
            "valor p: 6.517970327099473e-12\n",
            "Rechazamos la hipótesis nula\n"
          ]
        }
      ],
      "source": [
        "# Prueba las hipótesis\n",
        "\n",
        "alpha = 0.05\n",
        "\n",
        "results = st.ttest_ind(trip_duration_bad, trip_duration_good)\n",
        "print( f'valor p: {results.pvalue}' )\n",
        "\n",
        "\n",
        "if results.pvalue < alpha:\n",
        "    print(\"Rechazamos la hipótesis nula\")\n",
        "else:\n",
        "    print(\"No podemos rechazar la hipótesis nula\")\n"
      ]
    },
    {
      "cell_type": "markdown",
      "metadata": {
        "id": "mp5C7lHBiu7n"
      },
      "source": [
        "## Conclusiones\n",
        "\n",
        "- Los clientes prefieren viajar en empresas como Flashcab, se recomienda investigar sobre su oferta al cliente y evaluar si Zuber sería competetitiva\n",
        "- También prefieren vaiajar a los barrios de Loop, Rivernorth y Streeteville\n",
        "- Factores externos como el clima sí afecta la duración de los viajes\n",
        "\n",
        "\n",
        "Rechazamos la hipotesis nula de acuerdo a la prueba T, el valor p es demasiado bajo (6.517e-10 en % de probabilidad de obtener aleatoriamente una diferencia de ese tamaño o mayor). Por lo tanto se cumple la hipotesis alternativa:\n",
        "- La duración promedio de los viajes desde el Loop hasta el Aeropuerto Internacional O'Hare sí cambia los sabados lluviosos\n",
        "- Se utiliza una prueba bilateral ya que no se sabe con certeza si la diferencia es significativa en la dirección positiva o negativa\n",
        "- La empresa FlashCab tiene amplia presencia en la ciudad, que su numero de viajes resulta atipico comparado a las otras que se mantienen en valores cercanos (al menos del top 10), se tiene que indagar mas en cuanto a lo que esta compañia ofrece, asi Zuber tiene posibilidades de competir en el mercado.\n",
        "\n",
        "- Los barrios de Loop, Rivernorth y Streeteville son los destinos mas populares en los viajes realizados por las compañias\n",
        "-\n",
        "-\n",
        "- El poder recuperar datos de distintas fuentes compatibles es una gran herramienta que nos permite tener mas información con la cual trabajar y relacionar a otro conjunto de datos que tengamos y complementar nuestro análisis\n",
        "-\n",
        "- El uso de SQL es algo fundamental hoy dia en las industrias, la habilidad de comunicarse con bases de datos relacionales y obtener la información precisa que se requiera para algun análisis concreto\n"
      ]
    }
  ],
  "metadata": {
    "kernelspec": {
      "display_name": "Python 3 (ipykernel)",
      "language": "python",
      "name": "python3"
    },
    "language_info": {
      "codemirror_mode": {
        "name": "ipython",
        "version": 3
      },
      "file_extension": ".py",
      "mimetype": "text/x-python",
      "name": "python",
      "nbconvert_exporter": "python",
      "pygments_lexer": "ipython3",
      "version": "3.9.19"
    },
    "toc": {
      "base_numbering": 1,
      "nav_menu": {},
      "number_sections": true,
      "sideBar": true,
      "skip_h1_title": true,
      "title_cell": "Table of Contents",
      "title_sidebar": "Contents",
      "toc_cell": false,
      "toc_position": {},
      "toc_section_display": true,
      "toc_window_display": false
    },
    "colab": {
      "provenance": []
    }
  },
  "nbformat": 4,
  "nbformat_minor": 0
}